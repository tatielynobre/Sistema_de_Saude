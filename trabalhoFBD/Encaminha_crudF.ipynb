{
 "cells": [
  {
   "cell_type": "code",
   "execution_count": 1,
   "metadata": {},
   "outputs": [],
   "source": [
    "import pandas as pd\n",
    "import panel as pn\n",
    "from sqlalchemy import create_engine, text\n",
    "from sqlalchemy.exc import SQLAlchemyError\n",
    "import psycopg2\n",
    "\n",
    "db_config = {\n",
    "    'user': 'postgres',\n",
    "    'password': '5715',\n",
    "    'host': 'localhost',\n",
    "    'port': '5432',\n",
    "    'database': 'Sistema_de_Gereciamento_de_SaúdeFINAL'\n",
    "}\n",
    "\n",
    "engine = create_engine(f\"postgresql+psycopg2://{db_config['user']}:{db_config['password']}@{db_config['host']}:{db_config['port']}/{db_config['database']}\")\n",
    "con = engine.connect()\n"
   ]
  },
  {
   "cell_type": "markdown",
   "metadata": {},
   "source": [
    "**Passo 1**\n",
    "Nessa etapa foi immportada as bibliotecas necessárias, dps foi armazenado a config do banco e posteriormente foi criado umn objeto de conexão com o banco e dps é esyabelecido a conexão"
   ]
  },
  {
   "cell_type": "code",
   "execution_count": 2,
   "metadata": {},
   "outputs": [],
   "source": [
    "def read_encaminhamentos(id=None, CRM=None, cpf_paciente=None):\n",
    "    try:\n",
    "        if id is not None:\n",
    "            query = text(\"SELECT * FROM sistema_de_saude.encaminha WHERE id = :id\")\n",
    "            df = pd.read_sql(query, con, params={\"id\": id})\n",
    "        elif CRM is not None:\n",
    "            query = text(\"SELECT * FROM sistema_de_saude.encaminha WHERE CRM = :CRM\")\n",
    "            df = pd.read_sql(query, con, params={\"CRM\": CRM})\n",
    "        elif cpf_paciente is not None:\n",
    "            query = text(\"SELECT * FROM sistema_de_saude.encaminha WHERE cpf_paciente = :cpf_paciente\")\n",
    "            df = pd.read_sql(query, con, params={\"cpf_paciente\": cpf_paciente})\n",
    "        else:\n",
    "            query = \"SELECT * FROM sistema_de_saude.encaminha\"\n",
    "            df = pd.read_sql(query, con)\n",
    "        \n",
    "        return df\n",
    "    except SQLAlchemyError as e:\n",
    "        return str(e)"
   ]
  },
  {
   "cell_type": "markdown",
   "metadata": {},
   "source": [
    "**passo 2**\n",
    "É criado uma função que vai ler os dados da tabela e vai permitir filtrar por id, CRM do médico ou pelo cpf do paciente\n",
    "- Inicia com um bloco de tentatuva que se ocorrer um erroe ele será capturado pelo except\n",
    "- verifice se o id não é none, se sim ele consulta os dados pelo id\n",
    "- query = text.... cria uma consulta sql que seleciona os registros da tabela a partir do id\n",
    "- df = pd.read_sql.... Usa a função de leitura para executar e retornar os resultados em um dataFrame, usa o \"params\" pra mapear o valor id para o placeholder :id na consulta sql\n",
    "- se o if estiver errado ele faz o mesmo para as outras condições\n",
    "- no final ele retorna o valor do resultado, A função retorna o DataFrame df.\n",
    "- except SQLAlchemyError as e:\n",
    "    return str(e) Se um erro ocorrer ele é capturado e a função retorna uma string representando o erro, que pode ser útil para depuração.\n"
   ]
  },
  {
   "cell_type": "code",
   "execution_count": 3,
   "metadata": {},
   "outputs": [],
   "source": [
    "def create_encaminhamento(CRM, data_, unidade_destino, local_destino, cpf_paciente):\n",
    "    try:\n",
    "        query = text(\"INSERT INTO sistema_de_saude.encaminha (CRM, data_, unidade_destino, local_destino, cpf_paciente) VALUES (:CRM, :data_, :unidade_destino, :local_destino, :cpf_paciente)\")\n",
    "        con.execute(query, {\"CRM\": CRM, \"data_\": data_, \"unidade_destino\": unidade_destino, \"local_destino\": local_destino, \"cpf_paciente\": cpf_paciente})\n",
    "        con.commit()   \n",
    "        return \"Encaminhamento adicionado com sucesso!\"\n",
    "    except SQLAlchemyError as e:\n",
    "        return str(e)"
   ]
  },
  {
   "cell_type": "markdown",
   "metadata": {},
   "source": [
    "**passo 3** \n",
    "- cria uma função que inseri novos registro na tabelaCRM: O CRM do médico responsável pelo encaminhamento.\n",
    "data_: A data do encaminhamento.\n",
    "unidade_destino: O ID da unidade de saúde de destino.\n",
    "local_destino: O nome da instituição ou local de destino.\n",
    "cpf_paciente: O CPF do paciente a ser encaminhado.\n",
    "- try:  inicia o bloco de tentativa\n",
    "- query = text.... A função text() do SQLAlchemy é usada para preparar a consulta. A consulta INSERT INTO insere os valores fornecidos nos campos\n",
    "- con.execute.... executa a consulta SQL\n",
    "- con.commit() inserção dos dados no banco de dados é finalizada e confirmada. Até o commit, a inserção está pendente e pode ser revertida.\n",
    "- return \"Encaminhamento adicionado com sucesso!\", se tudo estiver correto essa mensagem é retornada\n",
    "- except SQLAlchemyError as e:\n",
    "    return str(e) se ocorrer um erro, erá capturado pelo bloco except. O erro capturado é convertido em uma string (str(e)) e retornado pela função, o que permite que o erro seja exibido ou registrado para depuração.\n",
    "\n",
    "\n",
    "\n"
   ]
  },
  {
   "cell_type": "code",
   "execution_count": 4,
   "metadata": {},
   "outputs": [],
   "source": [
    "def update_encaminhamento(id, CRM, data_, unidade_destino, local_destino, cpf_paciente):\n",
    "    try:\n",
    "        query = text(\"UPDATE sistema_de_saude.encaminha SET CRM = :CRM, data_ = :data_, unidade_destino = :unidade_destino, local_destino = :local_destino, cpf_paciente = :cpf_paciente WHERE id = :id\")\n",
    "        con.execute(query, {\"id\": id, \"CRM\": CRM, \"data_\": data_, \"unidade_destino\": unidade_destino, \"local_destino\": local_destino, \"cpf_paciente\": cpf_paciente})\n",
    "        con.commit()   \n",
    "        return \"Encaminhamento atualizado com sucesso!\"\n",
    "    except SQLAlchemyError as e:\n",
    "        return str(e)"
   ]
  },
  {
   "cell_type": "markdown",
   "metadata": {},
   "source": [
    "**passo 4**\n",
    "- atualiza os registros existentes na tabela\n",
    "- inicia o try: \n",
    "- query = text... cria uma consulta SQL\n",
    "- con. execute execulta a consulta\n",
    "- con.commit confirma a transação\n",
    "- return \"Encaminhamento atualizado com sucesso!\" retorno de sucesso\n",
    "- except SQLAlchemyError as e:\n",
    "    return str(e) se occorrer erro, captura erros relacionados ao banco de dados. Se um erro for capturado, ele é convertido em uma string com str(e) e retornado. Isso permite que a função forneça feedback sobre o erro ocorrido, facilitando a depuração.\n",
    "\n"
   ]
  },
  {
   "cell_type": "code",
   "execution_count": 5,
   "metadata": {},
   "outputs": [],
   "source": [
    "def delete_encaminhamento(id):\n",
    "    try:\n",
    "        query = text(\"DELETE FROM sistema_de_saude.encaminha WHERE id = :id\")\n",
    "        con.execute(query, {\"id\": id})\n",
    "        con.commit()   \n",
    "        return \"Encaminhamento excluído com sucesso!\"\n",
    "    except SQLAlchemyError as e:\n",
    "        return str(e)\n"
   ]
  },
  {
   "cell_type": "markdown",
   "metadata": {},
   "source": [
    "**passo 5**\n",
    "- Responsavel por excluir um encaminhamento especifico da tabela. recebe o parametro id\n",
    "- query = text.... consulta que usa o comando delete para remover um registro\n",
    "- con.execute(query, {\"id\": id}) executa a consulta e substitui o :id pelo valor passado para  a função\n",
    "- con.commit() confirma a exclusão do encaminhamento definitiva no banco de dados\n",
    "- return \"Encaminhamento excluído com sucesso!\" se exclusão for bem sucedida\n",
    "- except SQLAlchemyError as e:\n",
    "    return str(e)\n",
    "\n",
    "\n",
    "\n",
    "\n"
   ]
  },
  {
   "cell_type": "code",
   "execution_count": 6,
   "metadata": {},
   "outputs": [
    {
     "name": "stderr",
     "output_type": "stream",
     "text": [
      "C:\\Users\\fnobr\\AppData\\Local\\Temp\\ipykernel_17780\\3167155909.py:1: UserWarning: Using Panel interactively in VSCode notebooks requires the jupyter_bokeh package to be installed. You can install it with:\n",
      "\n",
      "   pip install jupyter_bokeh\n",
      "\n",
      "or:\n",
      "    conda install jupyter_bokeh\n",
      "\n",
      "and try again.\n",
      "  pn.extension()\n"
     ]
    },
    {
     "data": {
      "text/html": [
       "<script type=\"esms-options\">{\"shimMode\": true}</script><style>*[data-root-id],\n",
       "*[data-root-id] > * {\n",
       "  box-sizing: border-box;\n",
       "  font-family: var(--jp-ui-font-family);\n",
       "  font-size: var(--jp-ui-font-size1);\n",
       "  color: var(--vscode-editor-foreground, var(--jp-ui-font-color1));\n",
       "}\n",
       "\n",
       "/* Override VSCode background color */\n",
       ".cell-output-ipywidget-background:has(\n",
       "    > .cell-output-ipywidget-background > .lm-Widget > *[data-root-id]\n",
       "  ),\n",
       ".cell-output-ipywidget-background:has(> .lm-Widget > *[data-root-id]) {\n",
       "  background-color: transparent !important;\n",
       "}\n",
       "</style>"
      ]
     },
     "metadata": {},
     "output_type": "display_data"
    },
    {
     "data": {
      "application/javascript": "(function(root) {\n  function now() {\n    return new Date();\n  }\n\n  const force = true;\n  const py_version = '3.5.2'.replace('rc', '-rc.').replace('.dev', '-dev.');\n  const reloading = false;\n  const Bokeh = root.Bokeh;\n\n  // Set a timeout for this load but only if we are not already initializing\n  if (typeof (root._bokeh_timeout) === \"undefined\" || (force || !root._bokeh_is_initializing)) {\n    root._bokeh_timeout = Date.now() + 5000;\n    root._bokeh_failed_load = false;\n  }\n\n  function run_callbacks() {\n    try {\n      root._bokeh_onload_callbacks.forEach(function(callback) {\n        if (callback != null)\n          callback();\n      });\n    } finally {\n      delete root._bokeh_onload_callbacks;\n    }\n    console.debug(\"Bokeh: all callbacks have finished\");\n  }\n\n  function load_libs(css_urls, js_urls, js_modules, js_exports, callback) {\n    if (css_urls == null) css_urls = [];\n    if (js_urls == null) js_urls = [];\n    if (js_modules == null) js_modules = [];\n    if (js_exports == null) js_exports = {};\n\n    root._bokeh_onload_callbacks.push(callback);\n\n    if (root._bokeh_is_loading > 0) {\n      // Don't load bokeh if it is still initializing\n      console.debug(\"Bokeh: BokehJS is being loaded, scheduling callback at\", now());\n      return null;\n    } else if (js_urls.length === 0 && js_modules.length === 0 && Object.keys(js_exports).length === 0) {\n      // There is nothing to load\n      run_callbacks();\n      return null;\n    }\n\n    function on_load() {\n      root._bokeh_is_loading--;\n      if (root._bokeh_is_loading === 0) {\n        console.debug(\"Bokeh: all BokehJS libraries/stylesheets loaded\");\n        run_callbacks()\n      }\n    }\n    window._bokeh_on_load = on_load\n\n    function on_error(e) {\n      const src_el = e.srcElement\n      console.error(\"failed to load \" + (src_el.href || src_el.src));\n    }\n\n    const skip = [];\n    if (window.requirejs) {\n      window.requirejs.config({'packages': {}, 'paths': {}, 'shim': {}});\n      root._bokeh_is_loading = css_urls.length + 0;\n    } else {\n      root._bokeh_is_loading = css_urls.length + js_urls.length + js_modules.length + Object.keys(js_exports).length;\n    }\n\n    const existing_stylesheets = []\n    const links = document.getElementsByTagName('link')\n    for (let i = 0; i < links.length; i++) {\n      const link = links[i]\n      if (link.href != null) {\n        existing_stylesheets.push(link.href)\n      }\n    }\n    for (let i = 0; i < css_urls.length; i++) {\n      const url = css_urls[i];\n      const escaped = encodeURI(url)\n      if (existing_stylesheets.indexOf(escaped) !== -1) {\n        on_load()\n        continue;\n      }\n      const element = document.createElement(\"link\");\n      element.onload = on_load;\n      element.onerror = on_error;\n      element.rel = \"stylesheet\";\n      element.type = \"text/css\";\n      element.href = url;\n      console.debug(\"Bokeh: injecting link tag for BokehJS stylesheet: \", url);\n      document.body.appendChild(element);\n    }    var existing_scripts = []\n    const scripts = document.getElementsByTagName('script')\n    for (let i = 0; i < scripts.length; i++) {\n      var script = scripts[i]\n      if (script.src != null) {\n        existing_scripts.push(script.src)\n      }\n    }\n    for (let i = 0; i < js_urls.length; i++) {\n      const url = js_urls[i];\n      const escaped = encodeURI(url)\n      if (skip.indexOf(escaped) !== -1 || existing_scripts.indexOf(escaped) !== -1) {\n        if (!window.requirejs) {\n          on_load();\n        }\n        continue;\n      }\n      const element = document.createElement('script');\n      element.onload = on_load;\n      element.onerror = on_error;\n      element.async = false;\n      element.src = url;\n      console.debug(\"Bokeh: injecting script tag for BokehJS library: \", url);\n      document.head.appendChild(element);\n    }\n    for (let i = 0; i < js_modules.length; i++) {\n      const url = js_modules[i];\n      const escaped = encodeURI(url)\n      if (skip.indexOf(escaped) !== -1 || existing_scripts.indexOf(escaped) !== -1) {\n        if (!window.requirejs) {\n          on_load();\n        }\n        continue;\n      }\n      var element = document.createElement('script');\n      element.onload = on_load;\n      element.onerror = on_error;\n      element.async = false;\n      element.src = url;\n      element.type = \"module\";\n      console.debug(\"Bokeh: injecting script tag for BokehJS library: \", url);\n      document.head.appendChild(element);\n    }\n    for (const name in js_exports) {\n      const url = js_exports[name];\n      const escaped = encodeURI(url)\n      if (skip.indexOf(escaped) >= 0 || root[name] != null) {\n        if (!window.requirejs) {\n          on_load();\n        }\n        continue;\n      }\n      var element = document.createElement('script');\n      element.onerror = on_error;\n      element.async = false;\n      element.type = \"module\";\n      console.debug(\"Bokeh: injecting script tag for BokehJS library: \", url);\n      element.textContent = `\n      import ${name} from \"${url}\"\n      window.${name} = ${name}\n      window._bokeh_on_load()\n      `\n      document.head.appendChild(element);\n    }\n    if (!js_urls.length && !js_modules.length) {\n      on_load()\n    }\n  };\n\n  function inject_raw_css(css) {\n    const element = document.createElement(\"style\");\n    element.appendChild(document.createTextNode(css));\n    document.body.appendChild(element);\n  }\n\n  const js_urls = [\"https://cdn.holoviz.org/panel/1.5.0/dist/bundled/reactiveesm/es-module-shims@^1.10.0/dist/es-module-shims.min.js\", \"https://cdn.bokeh.org/bokeh/release/bokeh-3.5.2.min.js\", \"https://cdn.bokeh.org/bokeh/release/bokeh-gl-3.5.2.min.js\", \"https://cdn.bokeh.org/bokeh/release/bokeh-widgets-3.5.2.min.js\", \"https://cdn.bokeh.org/bokeh/release/bokeh-tables-3.5.2.min.js\", \"https://cdn.holoviz.org/panel/1.5.0/dist/panel.min.js\"];\n  const js_modules = [];\n  const js_exports = {};\n  const css_urls = [];\n  const inline_js = [    function(Bokeh) {\n      Bokeh.set_log_level(\"info\");\n    },\nfunction(Bokeh) {} // ensure no trailing comma for IE\n  ];\n\n  function run_inline_js() {\n    if ((root.Bokeh !== undefined) || (force === true)) {\n      for (let i = 0; i < inline_js.length; i++) {\n        try {\n          inline_js[i].call(root, root.Bokeh);\n        } catch(e) {\n          if (!reloading) {\n            throw e;\n          }\n        }\n      }\n      // Cache old bokeh versions\n      if (Bokeh != undefined && !reloading) {\n        var NewBokeh = root.Bokeh;\n        if (Bokeh.versions === undefined) {\n          Bokeh.versions = new Map();\n        }\n        if (NewBokeh.version !== Bokeh.version) {\n          Bokeh.versions.set(NewBokeh.version, NewBokeh)\n        }\n        root.Bokeh = Bokeh;\n      }\n    } else if (Date.now() < root._bokeh_timeout) {\n      setTimeout(run_inline_js, 100);\n    } else if (!root._bokeh_failed_load) {\n      console.log(\"Bokeh: BokehJS failed to load within specified timeout.\");\n      root._bokeh_failed_load = true;\n    }\n    root._bokeh_is_initializing = false\n  }\n\n  function load_or_wait() {\n    // Implement a backoff loop that tries to ensure we do not load multiple\n    // versions of Bokeh and its dependencies at the same time.\n    // In recent versions we use the root._bokeh_is_initializing flag\n    // to determine whether there is an ongoing attempt to initialize\n    // bokeh, however for backward compatibility we also try to ensure\n    // that we do not start loading a newer (Panel>=1.0 and Bokeh>3) version\n    // before older versions are fully initialized.\n    if (root._bokeh_is_initializing && Date.now() > root._bokeh_timeout) {\n      // If the timeout and bokeh was not successfully loaded we reset\n      // everything and try loading again\n      root._bokeh_timeout = Date.now() + 5000;\n      root._bokeh_is_initializing = false;\n      root._bokeh_onload_callbacks = undefined;\n      root._bokeh_is_loading = 0\n      console.log(\"Bokeh: BokehJS was loaded multiple times but one version failed to initialize.\");\n      load_or_wait();\n    } else if (root._bokeh_is_initializing || (typeof root._bokeh_is_initializing === \"undefined\" && root._bokeh_onload_callbacks !== undefined)) {\n      setTimeout(load_or_wait, 100);\n    } else {\n      root._bokeh_is_initializing = true\n      root._bokeh_onload_callbacks = []\n      const bokeh_loaded = root.Bokeh != null && (root.Bokeh.version === py_version || (root.Bokeh.versions !== undefined && root.Bokeh.versions.has(py_version)));\n      if (!reloading && !bokeh_loaded) {\n        if (root.Bokeh) {\n          root.Bokeh = undefined;\n        }\n        console.debug(\"Bokeh: BokehJS not loaded, scheduling load and callback at\", now());\n      }\n      load_libs(css_urls, js_urls, js_modules, js_exports, function() {\n        console.debug(\"Bokeh: BokehJS plotting callback run at\", now());\n        run_inline_js();\n      });\n    }\n  }\n  // Give older versions of the autoload script a head-start to ensure\n  // they initialize before we start loading newer version.\n  setTimeout(load_or_wait, 100)\n}(window));",
      "application/vnd.holoviews_load.v0+json": ""
     },
     "metadata": {},
     "output_type": "display_data"
    },
    {
     "data": {
      "application/javascript": "\nif ((window.PyViz === undefined) || (window.PyViz instanceof HTMLElement)) {\n  window.PyViz = {comms: {}, comm_status:{}, kernels:{}, receivers: {}, plot_index: []}\n}\n\n\n    function JupyterCommManager() {\n    }\n\n    JupyterCommManager.prototype.register_target = function(plot_id, comm_id, msg_handler) {\n      if (window.comm_manager || ((window.Jupyter !== undefined) && (Jupyter.notebook.kernel != null))) {\n        var comm_manager = window.comm_manager || Jupyter.notebook.kernel.comm_manager;\n        comm_manager.register_target(comm_id, function(comm) {\n          comm.on_msg(msg_handler);\n        });\n      } else if ((plot_id in window.PyViz.kernels) && (window.PyViz.kernels[plot_id])) {\n        window.PyViz.kernels[plot_id].registerCommTarget(comm_id, function(comm) {\n          comm.onMsg = msg_handler;\n        });\n      } else if (typeof google != 'undefined' && google.colab.kernel != null) {\n        google.colab.kernel.comms.registerTarget(comm_id, (comm) => {\n          var messages = comm.messages[Symbol.asyncIterator]();\n          function processIteratorResult(result) {\n            var message = result.value;\n            console.log(message)\n            var content = {data: message.data, comm_id};\n            var buffers = []\n            for (var buffer of message.buffers || []) {\n              buffers.push(new DataView(buffer))\n            }\n            var metadata = message.metadata || {};\n            var msg = {content, buffers, metadata}\n            msg_handler(msg);\n            return messages.next().then(processIteratorResult);\n          }\n          return messages.next().then(processIteratorResult);\n        })\n      }\n    }\n\n    JupyterCommManager.prototype.get_client_comm = function(plot_id, comm_id, msg_handler) {\n      if (comm_id in window.PyViz.comms) {\n        return window.PyViz.comms[comm_id];\n      } else if (window.comm_manager || ((window.Jupyter !== undefined) && (Jupyter.notebook.kernel != null))) {\n        var comm_manager = window.comm_manager || Jupyter.notebook.kernel.comm_manager;\n        var comm = comm_manager.new_comm(comm_id, {}, {}, {}, comm_id);\n        if (msg_handler) {\n          comm.on_msg(msg_handler);\n        }\n      } else if ((plot_id in window.PyViz.kernels) && (window.PyViz.kernels[plot_id])) {\n        var comm = window.PyViz.kernels[plot_id].connectToComm(comm_id);\n        comm.open();\n        if (msg_handler) {\n          comm.onMsg = msg_handler;\n        }\n      } else if (typeof google != 'undefined' && google.colab.kernel != null) {\n        var comm_promise = google.colab.kernel.comms.open(comm_id)\n        comm_promise.then((comm) => {\n          window.PyViz.comms[comm_id] = comm;\n          if (msg_handler) {\n            var messages = comm.messages[Symbol.asyncIterator]();\n            function processIteratorResult(result) {\n              var message = result.value;\n              var content = {data: message.data};\n              var metadata = message.metadata || {comm_id};\n              var msg = {content, metadata}\n              msg_handler(msg);\n              return messages.next().then(processIteratorResult);\n            }\n            return messages.next().then(processIteratorResult);\n          }\n        }) \n        var sendClosure = (data, metadata, buffers, disposeOnDone) => {\n          return comm_promise.then((comm) => {\n            comm.send(data, metadata, buffers, disposeOnDone);\n          });\n        };\n        var comm = {\n          send: sendClosure\n        };\n      }\n      window.PyViz.comms[comm_id] = comm;\n      return comm;\n    }\n    window.PyViz.comm_manager = new JupyterCommManager();\n    \n\n\nvar JS_MIME_TYPE = 'application/javascript';\nvar HTML_MIME_TYPE = 'text/html';\nvar EXEC_MIME_TYPE = 'application/vnd.holoviews_exec.v0+json';\nvar CLASS_NAME = 'output';\n\n/**\n * Render data to the DOM node\n */\nfunction render(props, node) {\n  var div = document.createElement(\"div\");\n  var script = document.createElement(\"script\");\n  node.appendChild(div);\n  node.appendChild(script);\n}\n\n/**\n * Handle when a new output is added\n */\nfunction handle_add_output(event, handle) {\n  var output_area = handle.output_area;\n  var output = handle.output;\n  if ((output.data == undefined) || (!output.data.hasOwnProperty(EXEC_MIME_TYPE))) {\n    return\n  }\n  var id = output.metadata[EXEC_MIME_TYPE][\"id\"];\n  var toinsert = output_area.element.find(\".\" + CLASS_NAME.split(' ')[0]);\n  if (id !== undefined) {\n    var nchildren = toinsert.length;\n    var html_node = toinsert[nchildren-1].children[0];\n    html_node.innerHTML = output.data[HTML_MIME_TYPE];\n    var scripts = [];\n    var nodelist = html_node.querySelectorAll(\"script\");\n    for (var i in nodelist) {\n      if (nodelist.hasOwnProperty(i)) {\n        scripts.push(nodelist[i])\n      }\n    }\n\n    scripts.forEach( function (oldScript) {\n      var newScript = document.createElement(\"script\");\n      var attrs = [];\n      var nodemap = oldScript.attributes;\n      for (var j in nodemap) {\n        if (nodemap.hasOwnProperty(j)) {\n          attrs.push(nodemap[j])\n        }\n      }\n      attrs.forEach(function(attr) { newScript.setAttribute(attr.name, attr.value) });\n      newScript.appendChild(document.createTextNode(oldScript.innerHTML));\n      oldScript.parentNode.replaceChild(newScript, oldScript);\n    });\n    if (JS_MIME_TYPE in output.data) {\n      toinsert[nchildren-1].children[1].textContent = output.data[JS_MIME_TYPE];\n    }\n    output_area._hv_plot_id = id;\n    if ((window.Bokeh !== undefined) && (id in Bokeh.index)) {\n      window.PyViz.plot_index[id] = Bokeh.index[id];\n    } else {\n      window.PyViz.plot_index[id] = null;\n    }\n  } else if (output.metadata[EXEC_MIME_TYPE][\"server_id\"] !== undefined) {\n    var bk_div = document.createElement(\"div\");\n    bk_div.innerHTML = output.data[HTML_MIME_TYPE];\n    var script_attrs = bk_div.children[0].attributes;\n    for (var i = 0; i < script_attrs.length; i++) {\n      toinsert[toinsert.length - 1].childNodes[1].setAttribute(script_attrs[i].name, script_attrs[i].value);\n    }\n    // store reference to server id on output_area\n    output_area._bokeh_server_id = output.metadata[EXEC_MIME_TYPE][\"server_id\"];\n  }\n}\n\n/**\n * Handle when an output is cleared or removed\n */\nfunction handle_clear_output(event, handle) {\n  var id = handle.cell.output_area._hv_plot_id;\n  var server_id = handle.cell.output_area._bokeh_server_id;\n  if (((id === undefined) || !(id in PyViz.plot_index)) && (server_id !== undefined)) { return; }\n  var comm = window.PyViz.comm_manager.get_client_comm(\"hv-extension-comm\", \"hv-extension-comm\", function () {});\n  if (server_id !== null) {\n    comm.send({event_type: 'server_delete', 'id': server_id});\n    return;\n  } else if (comm !== null) {\n    comm.send({event_type: 'delete', 'id': id});\n  }\n  delete PyViz.plot_index[id];\n  if ((window.Bokeh !== undefined) & (id in window.Bokeh.index)) {\n    var doc = window.Bokeh.index[id].model.document\n    doc.clear();\n    const i = window.Bokeh.documents.indexOf(doc);\n    if (i > -1) {\n      window.Bokeh.documents.splice(i, 1);\n    }\n  }\n}\n\n/**\n * Handle kernel restart event\n */\nfunction handle_kernel_cleanup(event, handle) {\n  delete PyViz.comms[\"hv-extension-comm\"];\n  window.PyViz.plot_index = {}\n}\n\n/**\n * Handle update_display_data messages\n */\nfunction handle_update_output(event, handle) {\n  handle_clear_output(event, {cell: {output_area: handle.output_area}})\n  handle_add_output(event, handle)\n}\n\nfunction register_renderer(events, OutputArea) {\n  function append_mime(data, metadata, element) {\n    // create a DOM node to render to\n    var toinsert = this.create_output_subarea(\n    metadata,\n    CLASS_NAME,\n    EXEC_MIME_TYPE\n    );\n    this.keyboard_manager.register_events(toinsert);\n    // Render to node\n    var props = {data: data, metadata: metadata[EXEC_MIME_TYPE]};\n    render(props, toinsert[0]);\n    element.append(toinsert);\n    return toinsert\n  }\n\n  events.on('output_added.OutputArea', handle_add_output);\n  events.on('output_updated.OutputArea', handle_update_output);\n  events.on('clear_output.CodeCell', handle_clear_output);\n  events.on('delete.Cell', handle_clear_output);\n  events.on('kernel_ready.Kernel', handle_kernel_cleanup);\n\n  OutputArea.prototype.register_mime_type(EXEC_MIME_TYPE, append_mime, {\n    safe: true,\n    index: 0\n  });\n}\n\nif (window.Jupyter !== undefined) {\n  try {\n    var events = require('base/js/events');\n    var OutputArea = require('notebook/js/outputarea').OutputArea;\n    if (OutputArea.prototype.mime_types().indexOf(EXEC_MIME_TYPE) == -1) {\n      register_renderer(events, OutputArea);\n    }\n  } catch(err) {\n  }\n}\n",
      "application/vnd.holoviews_load.v0+json": ""
     },
     "metadata": {},
     "output_type": "display_data"
    },
    {
     "data": {
      "application/vnd.holoviews_exec.v0+json": "",
      "text/html": [
       "<div id='b6f0e326-f4d2-47a2-bc26-aee3d20a4a77'>\n",
       "  <div id=\"fe180659-21fa-4efe-b264-882dd2880db0\" data-root-id=\"b6f0e326-f4d2-47a2-bc26-aee3d20a4a77\" style=\"display: contents;\"></div>\n",
       "</div>\n",
       "<script type=\"application/javascript\">(function(root) {\n",
       "  var docs_json = {\"862a6702-f63f-43b4-ad55-41763f778566\":{\"version\":\"3.5.2\",\"title\":\"Bokeh Application\",\"roots\":[{\"type\":\"object\",\"name\":\"panel.models.browser.BrowserInfo\",\"id\":\"b6f0e326-f4d2-47a2-bc26-aee3d20a4a77\"},{\"type\":\"object\",\"name\":\"panel.models.comm_manager.CommManager\",\"id\":\"1096eb6f-14c7-4d3f-8812-0d727155b75b\",\"attributes\":{\"plot_id\":\"b6f0e326-f4d2-47a2-bc26-aee3d20a4a77\",\"comm_id\":\"58f6423630af48fba48e7f47e2febdbf\",\"client_comm_id\":\"ed52d3c5d7ad48e98fe0d3c332031650\"}}],\"defs\":[{\"type\":\"model\",\"name\":\"ReactiveHTML1\"},{\"type\":\"model\",\"name\":\"FlexBox1\",\"properties\":[{\"name\":\"align_content\",\"kind\":\"Any\",\"default\":\"flex-start\"},{\"name\":\"align_items\",\"kind\":\"Any\",\"default\":\"flex-start\"},{\"name\":\"flex_direction\",\"kind\":\"Any\",\"default\":\"row\"},{\"name\":\"flex_wrap\",\"kind\":\"Any\",\"default\":\"wrap\"},{\"name\":\"gap\",\"kind\":\"Any\",\"default\":\"\"},{\"name\":\"justify_content\",\"kind\":\"Any\",\"default\":\"flex-start\"}]},{\"type\":\"model\",\"name\":\"FloatPanel1\",\"properties\":[{\"name\":\"config\",\"kind\":\"Any\",\"default\":{\"type\":\"map\"}},{\"name\":\"contained\",\"kind\":\"Any\",\"default\":true},{\"name\":\"position\",\"kind\":\"Any\",\"default\":\"right-top\"},{\"name\":\"offsetx\",\"kind\":\"Any\",\"default\":null},{\"name\":\"offsety\",\"kind\":\"Any\",\"default\":null},{\"name\":\"theme\",\"kind\":\"Any\",\"default\":\"primary\"},{\"name\":\"status\",\"kind\":\"Any\",\"default\":\"normalized\"}]},{\"type\":\"model\",\"name\":\"GridStack1\",\"properties\":[{\"name\":\"mode\",\"kind\":\"Any\",\"default\":\"warn\"},{\"name\":\"ncols\",\"kind\":\"Any\",\"default\":null},{\"name\":\"nrows\",\"kind\":\"Any\",\"default\":null},{\"name\":\"allow_resize\",\"kind\":\"Any\",\"default\":true},{\"name\":\"allow_drag\",\"kind\":\"Any\",\"default\":true},{\"name\":\"state\",\"kind\":\"Any\",\"default\":[]}]},{\"type\":\"model\",\"name\":\"drag1\",\"properties\":[{\"name\":\"slider_width\",\"kind\":\"Any\",\"default\":5},{\"name\":\"slider_color\",\"kind\":\"Any\",\"default\":\"black\"},{\"name\":\"value\",\"kind\":\"Any\",\"default\":50}]},{\"type\":\"model\",\"name\":\"click1\",\"properties\":[{\"name\":\"terminal_output\",\"kind\":\"Any\",\"default\":\"\"},{\"name\":\"debug_name\",\"kind\":\"Any\",\"default\":\"\"},{\"name\":\"clears\",\"kind\":\"Any\",\"default\":0}]},{\"type\":\"model\",\"name\":\"FastWrapper1\",\"properties\":[{\"name\":\"object\",\"kind\":\"Any\",\"default\":null},{\"name\":\"style\",\"kind\":\"Any\",\"default\":null}]},{\"type\":\"model\",\"name\":\"NotificationAreaBase1\",\"properties\":[{\"name\":\"js_events\",\"kind\":\"Any\",\"default\":{\"type\":\"map\"}},{\"name\":\"position\",\"kind\":\"Any\",\"default\":\"bottom-right\"},{\"name\":\"_clear\",\"kind\":\"Any\",\"default\":0}]},{\"type\":\"model\",\"name\":\"NotificationArea1\",\"properties\":[{\"name\":\"js_events\",\"kind\":\"Any\",\"default\":{\"type\":\"map\"}},{\"name\":\"notifications\",\"kind\":\"Any\",\"default\":[]},{\"name\":\"position\",\"kind\":\"Any\",\"default\":\"bottom-right\"},{\"name\":\"_clear\",\"kind\":\"Any\",\"default\":0},{\"name\":\"types\",\"kind\":\"Any\",\"default\":[{\"type\":\"map\",\"entries\":[[\"type\",\"warning\"],[\"background\",\"#ffc107\"],[\"icon\",{\"type\":\"map\",\"entries\":[[\"className\",\"fas fa-exclamation-triangle\"],[\"tagName\",\"i\"],[\"color\",\"white\"]]}]]},{\"type\":\"map\",\"entries\":[[\"type\",\"info\"],[\"background\",\"#007bff\"],[\"icon\",{\"type\":\"map\",\"entries\":[[\"className\",\"fas fa-info-circle\"],[\"tagName\",\"i\"],[\"color\",\"white\"]]}]]}]}]},{\"type\":\"model\",\"name\":\"Notification\",\"properties\":[{\"name\":\"background\",\"kind\":\"Any\",\"default\":null},{\"name\":\"duration\",\"kind\":\"Any\",\"default\":3000},{\"name\":\"icon\",\"kind\":\"Any\",\"default\":null},{\"name\":\"message\",\"kind\":\"Any\",\"default\":\"\"},{\"name\":\"notification_type\",\"kind\":\"Any\",\"default\":null},{\"name\":\"_destroyed\",\"kind\":\"Any\",\"default\":false}]},{\"type\":\"model\",\"name\":\"TemplateActions1\",\"properties\":[{\"name\":\"open_modal\",\"kind\":\"Any\",\"default\":0},{\"name\":\"close_modal\",\"kind\":\"Any\",\"default\":0}]},{\"type\":\"model\",\"name\":\"BootstrapTemplateActions1\",\"properties\":[{\"name\":\"open_modal\",\"kind\":\"Any\",\"default\":0},{\"name\":\"close_modal\",\"kind\":\"Any\",\"default\":0}]},{\"type\":\"model\",\"name\":\"TemplateEditor1\",\"properties\":[{\"name\":\"layout\",\"kind\":\"Any\",\"default\":[]}]},{\"type\":\"model\",\"name\":\"MaterialTemplateActions1\",\"properties\":[{\"name\":\"open_modal\",\"kind\":\"Any\",\"default\":0},{\"name\":\"close_modal\",\"kind\":\"Any\",\"default\":0}]},{\"type\":\"model\",\"name\":\"ReactiveESM1\"},{\"type\":\"model\",\"name\":\"JSComponent1\"},{\"type\":\"model\",\"name\":\"ReactComponent1\"},{\"type\":\"model\",\"name\":\"AnyWidgetComponent1\"},{\"type\":\"model\",\"name\":\"request_value1\",\"properties\":[{\"name\":\"fill\",\"kind\":\"Any\",\"default\":\"none\"},{\"name\":\"_synced\",\"kind\":\"Any\",\"default\":null},{\"name\":\"_request_sync\",\"kind\":\"Any\",\"default\":0}]}]}};\n",
       "  var render_items = [{\"docid\":\"862a6702-f63f-43b4-ad55-41763f778566\",\"roots\":{\"b6f0e326-f4d2-47a2-bc26-aee3d20a4a77\":\"fe180659-21fa-4efe-b264-882dd2880db0\"},\"root_ids\":[\"b6f0e326-f4d2-47a2-bc26-aee3d20a4a77\"]}];\n",
       "  var docs = Object.values(docs_json)\n",
       "  if (!docs) {\n",
       "    return\n",
       "  }\n",
       "  const py_version = docs[0].version.replace('rc', '-rc.').replace('.dev', '-dev.')\n",
       "  async function embed_document(root) {\n",
       "    var Bokeh = get_bokeh(root)\n",
       "    await Bokeh.embed.embed_items_notebook(docs_json, render_items);\n",
       "    for (const render_item of render_items) {\n",
       "      for (const root_id of render_item.root_ids) {\n",
       "\tconst id_el = document.getElementById(root_id)\n",
       "\tif (id_el.children.length && id_el.children[0].hasAttribute('data-root-id')) {\n",
       "\t  const root_el = id_el.children[0]\n",
       "\t  root_el.id = root_el.id + '-rendered'\n",
       "\t  for (const child of root_el.children) {\n",
       "            // Ensure JupyterLab does not capture keyboard shortcuts\n",
       "            // see: https://jupyterlab.readthedocs.io/en/4.1.x/extension/notebook.html#keyboard-interaction-model\n",
       "\t    child.setAttribute('data-lm-suppress-shortcuts', 'true')\n",
       "\t  }\n",
       "\t}\n",
       "      }\n",
       "    }\n",
       "  }\n",
       "  function get_bokeh(root) {\n",
       "    if (root.Bokeh === undefined) {\n",
       "      return null\n",
       "    } else if (root.Bokeh.version !== py_version) {\n",
       "      if (root.Bokeh.versions === undefined || !root.Bokeh.versions.has(py_version)) {\n",
       "\treturn null\n",
       "      }\n",
       "      return root.Bokeh.versions.get(py_version);\n",
       "    } else if (root.Bokeh.version === py_version) {\n",
       "      return root.Bokeh\n",
       "    }\n",
       "    return null\n",
       "  }\n",
       "  function is_loaded(root) {\n",
       "    var Bokeh = get_bokeh(root)\n",
       "    return (Bokeh != null && Bokeh.Panel !== undefined)\n",
       "  }\n",
       "  if (is_loaded(root)) {\n",
       "    embed_document(root);\n",
       "  } else {\n",
       "    var attempts = 0;\n",
       "    var timer = setInterval(function(root) {\n",
       "      if (is_loaded(root)) {\n",
       "        clearInterval(timer);\n",
       "        embed_document(root);\n",
       "      } else if (document.readyState == \"complete\") {\n",
       "        attempts++;\n",
       "        if (attempts > 200) {\n",
       "          clearInterval(timer);\n",
       "\t  var Bokeh = get_bokeh(root)\n",
       "\t  if (Bokeh == null || Bokeh.Panel == null) {\n",
       "            console.warn(\"Panel: ERROR: Unable to run Panel code because Bokeh or Panel library is missing\");\n",
       "\t  } else {\n",
       "\t    console.warn(\"Panel: WARNING: Attempting to render but not all required libraries could be resolved.\")\n",
       "\t    embed_document(root)\n",
       "\t  }\n",
       "        }\n",
       "      }\n",
       "    }, 25, root)\n",
       "  }\n",
       "})(window);</script>"
      ]
     },
     "metadata": {
      "application/vnd.holoviews_exec.v0+json": {
       "id": "b6f0e326-f4d2-47a2-bc26-aee3d20a4a77"
      }
     },
     "output_type": "display_data"
    }
   ],
   "source": [
    "pn.extension()\n",
    "\n",
    "def update_table(id=None, CRM=None, cpf_paciente=None):\n",
    "    df = read_encaminhamentos(id, CRM, cpf_paciente)\n",
    "    table.value = df"
   ]
  },
  {
   "cell_type": "markdown",
   "metadata": {},
   "source": [
    "**passo 6**\n",
    "- pn.extension() ativa o panel\n",
    "- def update_table responsavel por atualizar a tabela, tendo como base os filtros opcionais.\n",
    "- df = read_encaminhamentos(id, CRM, cpf_paciente) chama a função  que le os dados da tabela no banco, e armazena o resultado em df, que será o datafram contendo os dados do escaminhamentos\n",
    "- table.value = df Atualiza o valor do componente table com os dados da variavel df\n",
    "\n",
    "\n",
    "\n"
   ]
  },
  {
   "cell_type": "code",
   "execution_count": 7,
   "metadata": {},
   "outputs": [],
   "source": [
    "def on_filter_button_click(event):\n",
    "    id_filter = id_filter_input.value if id_filter_input.value else None\n",
    "    CRM_filter = CRM_filter_input.value if CRM_filter_input.value else None\n",
    "    cpf_paciente_filter = cpf_paciente_filter_input.value if cpf_paciente_filter_input.value else None\n",
    "    update_table(id=id_filter, CRM=CRM_filter, cpf_paciente=cpf_paciente_filter)\n",
    "    output_pane.object = \"Tabela atualizada com base no filtro.\""
   ]
  },
  {
   "cell_type": "markdown",
   "metadata": {},
   "source": [
    "**passo 7**\n",
    "- quando o usuário clica no botão de filtro. O argumento event é passado automaticamente pelo Panel, representando o evento de clique.\n",
    "- Captura os valores dos campos de entrada (ID, CRM, CPF do paciente) preenchidos pelo usuário.\n",
    "- update_table.... Atualiza a tabela de encaminhamentos com base nos filtros aplicados.\n",
    "- output_pane.object = \"Tabela atualizada com base no filtro.\" Define o conteúdo de output_pane para informar ao usuário que a tabela foi atualizada com base nos filtros\n",
    "\n"
   ]
  },
  {
   "cell_type": "code",
   "execution_count": 8,
   "metadata": {},
   "outputs": [],
   "source": [
    "id_filter_input = pn.widgets.IntInput(name='Filtrar por ID', width=150, css_classes=['input-widget'])\n",
    "CRM_filter_input = pn.widgets.IntInput(name='Filtrar por CRM', width=150, css_classes=['input-widget'])\n",
    "cpf_paciente_filter_input = pn.widgets.TextInput(name='Filtrar por CPF do Paciente', placeholder='CPF do Paciente', width=300, css_classes=['input-widget'])\n",
    "filter_button = pn.widgets.Button(name='Aplicar Filtro', button_type='primary', css_classes=['filter-button'])\n",
    "\n",
    "filter_button.on_click(on_filter_button_click)\n",
    "\n",
    "CRM_input = pn.widgets.IntInput(name='CRM', width=150, css_classes=['input-widget'])\n",
    "data_input = pn.widgets.TextInput(name='Data', placeholder='Data do Encaminhamento', width=150, css_classes=['input-widget'])\n",
    "unidade_destino_input = pn.widgets.IntInput(name='ID da Unidade de Destino', width=150, css_classes=['input-widget'])\n",
    "local_destino_input = pn.widgets.TextInput(name='Local de Destino', placeholder='Nome do Local de Destino', width=300, css_classes=['input-widget'])\n",
    "cpf_paciente_input = pn.widgets.TextInput(name='CPF do Paciente', placeholder='CPF do Paciente', width=300, css_classes=['input-widget'])\n",
    "create_button = pn.widgets.Button(name='Adicionar Encaminhamento', button_type='primary', css_classes=['create-button'])\n"
   ]
  },
  {
   "cell_type": "markdown",
   "metadata": {},
   "source": [
    "**passo 8**\n",
    "-  Cria campos de entrada do tipo numérico. Aqui temos dois campos para filtrar por ID e CRM.\n",
    "- filter_button.on_click(on_filter_button_click) Conecta o botão de filtro à função on_filter_button_click.\n",
    "- Depois é definido os campos de entrada e botões que permite ao usuário filtrar os encaminhamentos existentes ou adicionar um novo encaminhamento\n",
    "\n"
   ]
  },
  {
   "cell_type": "code",
   "execution_count": 9,
   "metadata": {},
   "outputs": [],
   "source": [
    "def on_create_button_click(event):\n",
    "    message = create_encaminhamento(CRM_input.value, data_input.value, unidade_destino_input.value, local_destino_input.value, cpf_paciente_input.value)\n",
    "    update_table()\n",
    "    output_pane.object = message\n",
    "\n",
    "    create_button.on_click(on_create_button_click)\n"
   ]
  },
  {
   "cell_type": "markdown",
   "metadata": {},
   "source": [
    "**passo 9**\n",
    "- onm_create_button_click é chamada automaticamente toda vez que o botao de encaminhamento for clicado\n",
    "- message = .... chama a função create_encaminhamento para adicionar um novo encaminhamento ao banco de dados\n",
    "- update_table() pós a criação do encaminhamento, a tabela de encaminhamentos exibida na interface é atualizada para refletir a nova inserção.\n",
    "- output_pane.object = message Atualiza o painel de saída (output_pane) com a mensagem retornada pela função create_encaminhamento.\n",
    "- create_button.on_click(on_create_button_click)  Aqui associamos a função on_create_button_click ao botão de criação de encaminhamento (create_button). Isso garante que, quando o botão for clicado, a função será executada, permitindo a criação do novo encaminhamento.\n",
    "\n",
    "\n"
   ]
  },
  {
   "cell_type": "code",
   "execution_count": 10,
   "metadata": {},
   "outputs": [],
   "source": [
    "# Widgets para adicionar encaminhamento\n",
    "CRM_input = pn.widgets.IntInput(name='CRM', width=150, css_classes=['input-widget'])\n",
    "data_input = pn.widgets.TextInput(name='Data', placeholder='Data do Encaminhamento', width=150, css_classes=['input-widget'])\n",
    "unidade_destino_input = pn.widgets.IntInput(name='ID da Unidade de Destino', width=150, css_classes=['input-widget'])\n",
    "local_destino_input = pn.widgets.TextInput(name='Local de Destino', placeholder='Nome do Local de Destino', width=300, css_classes=['input-widget'])\n",
    "cpf_paciente_input = pn.widgets.TextInput(name='CPF do Paciente', placeholder='CPF do Paciente', width=300, css_classes=['input-widget'])\n",
    "create_button = pn.widgets.Button(name='Adicionar Encaminhamento', button_type='primary', css_classes=['create-button'])"
   ]
  },
  {
   "cell_type": "markdown",
   "metadata": {},
   "source": [
    "**passo 10**\n",
    "- define os widgets da interface para inserir os dados\n",
    "- CRM_input: Campo para inserir o CRM do médico (número inteiro).\n",
    "- data_input: Campo para inserir a data do encaminhamento (texto).\n",
    "- unidade_destino_input: Campo para inserir o ID da unidade de destino (número inteiro).\n",
    "- local_destino_input: Campo para inserir o nome do local de destino (texto).\n",
    "- cpf_paciente_input: Campo para inserir o CPF do paciente (texto).\n",
    "- create_button: Botão para adicionar um novo encaminhamento."
   ]
  },
  {
   "cell_type": "code",
   "execution_count": 11,
   "metadata": {},
   "outputs": [
    {
     "data": {
      "text/plain": [
       "Watcher(inst=Button(button_type='primary', css_classes=['create-button'], name='Adicionar Encaminhamento'...), cls=<class 'panel.widgets.button.Button'>, fn=<function on_create_button_click at 0x0000021CC71B14E0>, mode='args', onlychanged=False, parameter_names=('clicks',), what='value', queued=False, precedence=0)"
      ]
     },
     "execution_count": 11,
     "metadata": {},
     "output_type": "execute_result"
    }
   ],
   "source": [
    "def on_create_button_click(event):\n",
    "    message = create_encaminhamento(CRM_input.value, data_input.value, unidade_destino_input.value, local_destino_input.value, cpf_paciente_input.value)\n",
    "    update_table()\n",
    "    output_pane.object = message\n",
    "\n",
    "create_button.on_click(on_create_button_click)\n"
   ]
  },
  {
   "cell_type": "markdown",
   "metadata": {},
   "source": [
    "**passo 11**\n",
    "- on_create_button_click(event): Função que define a ação do botão ao ser clicado. Ela aceita o evento de clique como argumento.\n",
    "- message = create_encaminhamento(...): Chama a função create_encaminhamento, passando os valores inseridos nos campos (CRM_input.value, data_input.value, etc.). O retorno da função (sucesso ou erro) é armazenado na variável message.\n",
    "- update_table(): Após a criação do encaminhamento, a tabela de encaminhamentos é atualizada para refletir os novos dados.\n",
    "- output_pane.object = message: Exibe a mensagem de retorno (sucesso ou erro) na interface para o usuário.\n",
    "- create_button.on_click(on_create_button_click): Associa a função on_create_button_click ao botão de criação (create_button), de forma que ela seja executada quando o botão for clicado."
   ]
  },
  {
   "cell_type": "code",
   "execution_count": 12,
   "metadata": {},
   "outputs": [],
   "source": [
    "# Widgets para atualizar encaminhamento\n",
    "id_input = pn.widgets.IntInput(name='ID do Encaminhamento', width=150, css_classes=['input-widget'])\n",
    "update_CRM_input = pn.widgets.IntInput(name='Novo CRM', width=150, css_classes=['input-widget'])\n",
    "update_data_input = pn.widgets.TextInput(name='Nova Data', placeholder='Nova Data', width=150, css_classes=['input-widget'])\n",
    "update_unidade_destino_input = pn.widgets.IntInput(name='Nova Unidade de Destino', width=150, css_classes=['input-widget'])\n",
    "update_local_destino_input = pn.widgets.TextInput(name='Novo Local de Destino', placeholder='Novo Local de Destino', width=300, css_classes=['input-widget'])\n",
    "update_cpf_paciente_input = pn.widgets.TextInput(name='Novo CPF do Paciente', placeholder='Novo CPF do Paciente', width=300, css_classes=['input-widget'])\n",
    "update_button = pn.widgets.Button(name='Atualizar Encaminhamento', button_type='warning', css_classes=['update-button'])"
   ]
  },
  {
   "cell_type": "markdown",
   "metadata": {},
   "source": [
    "**passo 12**\n",
    "- id_input: Um campo de entrada para o ID do encaminhamento que deseja ser atualizado. Usa IntInput para permitir apenas números inteiros.\n",
    "\n",
    "- update_CRM_input: Um campo de entrada para o novo CRM do profissional de saúde. Também utiliza IntInput para garantir a entrada numérica.\n",
    "- update_data_input: Um campo de texto para a nova data do encaminhamento. Utiliza TextInput, permitindo a entrada de texto (no formato de data).\n",
    "- update_unidade_destino_input: Campo numérico para a nova unidade de destino, representada por um ID numérico.\n",
    "- update_local_destino_input: Um campo de texto para o novo local de destino.\n",
    "- update_cpf_paciente_input: Um campo de texto para inserir o novo CPF do paciente relacionado ao encaminhamento.\n",
    "- update_button: Um botão que, ao ser clicado, dispara o processo de atualização do encaminhamento, utilizando a cor de alerta (warning) para indicar uma ação de modificação.\n",
    "\n"
   ]
  },
  {
   "cell_type": "code",
   "execution_count": 13,
   "metadata": {},
   "outputs": [
    {
     "data": {
      "text/plain": [
       "Watcher(inst=Button(button_type='warning', css_classes=['update-button'], name='Atualizar Encaminhamento'...), cls=<class 'panel.widgets.button.Button'>, fn=<function on_update_button_click at 0x0000021CC71B32E0>, mode='args', onlychanged=False, parameter_names=('clicks',), what='value', queued=False, precedence=0)"
      ]
     },
     "execution_count": 13,
     "metadata": {},
     "output_type": "execute_result"
    }
   ],
   "source": [
    "def on_update_button_click(event):\n",
    "    message = update_encaminhamento(id_input.value, update_CRM_input.value, update_data_input.value, update_unidade_destino_input.value, update_local_destino_input.value, update_cpf_paciente_input.value)\n",
    "    update_table()\n",
    "    output_pane.object = message\n",
    "\n",
    "update_button.on_click(on_update_button_click)"
   ]
  },
  {
   "cell_type": "markdown",
   "metadata": {},
   "source": [
    "**passo 13**\n",
    "- Este código define uma ação para o botão de atualização de encaminhamentos. Quando o botão é clicado, a função on_update_button_click é chamada, capturando os valores dos campos de entrada (ID, CRM, data, unidade de destino, local de destino e CPF do paciente). Esses valores são passados para a função update_encaminhamento, que atualiza o registro no banco de dados. Após a atualização, a tabela de encaminhamentos é atualizada automaticamente, e uma mensagem de sucesso ou erro é exibida no painel output_pane. O botão de atualização é vinculado a essa função para executar a ação."
   ]
  },
  {
   "cell_type": "code",
   "execution_count": 14,
   "metadata": {},
   "outputs": [],
   "source": [
    "delete_id_input = pn.widgets.IntInput(name='ID do Encaminhamento para Excluir', width=150, css_classes=['input-widget'])\n",
    "delete_button = pn.widgets.Button(name='Excluir Encaminhamento', button_type='danger', css_classes=['delete-button'])\n"
   ]
  },
  {
   "cell_type": "markdown",
   "metadata": {},
   "source": [
    "**passo 14**\n",
    "- delete_id_input: Um campo de entrada do tipo IntInput para o usuário fornecer o ID do encaminhamento que deseja excluir.\n",
    "- delete_button: Um botão de ação rotulado como \"Excluir Encaminhamento\""
   ]
  },
  {
   "cell_type": "code",
   "execution_count": 15,
   "metadata": {},
   "outputs": [
    {
     "data": {
      "text/plain": [
       "Watcher(inst=Button(button_type='danger', css_classes=['delete-button'], name='Excluir Encaminhamento'), cls=<class 'panel.widgets.button.Button'>, fn=<function on_delete_button_click at 0x0000021CC71B31A0>, mode='args', onlychanged=False, parameter_names=('clicks',), what='value', queued=False, precedence=0)"
      ]
     },
     "execution_count": 15,
     "metadata": {},
     "output_type": "execute_result"
    }
   ],
   "source": [
    "def on_delete_button_click(event):\n",
    "    message = delete_encaminhamento(delete_id_input.value)\n",
    "    update_table()\n",
    "    output_pane.object = message\n",
    "\n",
    "delete_button.on_click(on_delete_button_click)\n"
   ]
  },
  {
   "cell_type": "markdown",
   "metadata": {},
   "source": [
    "**passo 15**\n",
    "- O código define a ação de excluir um encaminhamento quando o botão de exclusão é clicado. A função on_delete_button_click é responsável por capturar o ID do encaminhamento a ser excluído, chamando a função delete_encaminhamento que realiza a exclusão no banco de dados. A tabela é atualizada automaticamente após a exclusão por meio da função update_table, e uma mensagem de sucesso ou erro é exibida no painel output_pane. A função on_delete_button_click é vinculada ao botão de exclusão através do comando delete_button.on_click, garantindo que a ação ocorra sempre que o botão for clicado."
   ]
  },
  {
   "cell_type": "code",
   "execution_count": 16,
   "metadata": {},
   "outputs": [],
   "source": [
    "table = pn.widgets.DataFrame(read_encaminhamentos(), name='Tabela de Encaminhamentos', width=600)\n",
    "output_pane = pn.pane.Markdown(\"Mensagens aparecerão aqui\", width=600)\n"
   ]
  },
  {
   "cell_type": "markdown",
   "metadata": {},
   "source": [
    "**passo 16**\n",
    "- A variável table cria um widget de DataFrame que exibe os encaminhamentos recuperados pela função read_encaminhamentos().\n",
    "- A variável output_pane cria um painel Markdown que serve para exibir mensagens\n",
    "- Esse painel será atualizado conforme as interações com os botões de criação, atualização ou exclusão de encaminhamentos.\n"
   ]
  },
  {
   "cell_type": "code",
   "execution_count": 17,
   "metadata": {},
   "outputs": [],
   "source": [
    "# Layout da interface\n",
    "layout = pn.Column(\n",
    "    pn.pane.Markdown(\"# Encaminhamento\", sizing_mode='stretch_width', css_classes=['title']),\n",
    "    pn.Row(\n",
    "        pn.Column(id_filter_input, CRM_filter_input, cpf_paciente_filter_input, filter_button),\n",
    "        sizing_mode='stretch_width'\n",
    "    ),\n",
    "    pn.Row(\n",
    "        pn.Column(CRM_input, data_input, unidade_destino_input, local_destino_input, cpf_paciente_input, create_button),\n",
    "        sizing_mode='stretch_width'\n",
    "    ),\n",
    "    pn.Row(\n",
    "        pn.Column(id_input, update_CRM_input, update_data_input, update_unidade_destino_input, update_local_destino_input, update_cpf_paciente_input, update_button),\n",
    "        sizing_mode='stretch_width'\n",
    "    ),\n",
    "    pn.Row(\n",
    "        pn.Column(delete_id_input, delete_button),\n",
    "        sizing_mode='stretch_width'\n",
    "    ),\n",
    "    table,\n",
    "    output_pane,\n",
    "    sizing_mode='stretch_width'\n",
    ")\n"
   ]
  },
  {
   "cell_type": "markdown",
   "metadata": {},
   "source": [
    "**passo 17**\n",
    "- O código define uma interface de gerenciamento de encaminhamentos usando a biblioteca Panel. Inicialmente, são criados widgets para filtrar, adicionar, atualizar e excluir encaminhamentos, incluindo campos para ID, CRM, data, unidade de destino, local e CPF do paciente, além de botões para aplicar filtros, criar, atualizar e excluir registros. A função on_filter_button_click atualiza a tabela de encaminhamentos com base nos filtros aplicados. A função on_create_button_click adiciona um novo encaminhamento e atualiza a tabela, enquanto a função on_update_button_click permite atualizar um encaminhamento existente e, por fim, a função on_delete_button_click remove um encaminhamento com base no ID fornecido. A tabela é exibida para mostrar os encaminhamentos atuais, e mensagens de status são apresentadas em um painel. O layout da interface organiza os elementos vertical e horizontalmente, garantindo que ocupem toda a largura disponível, criando uma experiência de usuário fluida e intuitiva."
   ]
  },
  {
   "cell_type": "code",
   "execution_count": 18,
   "metadata": {},
   "outputs": [
    {
     "name": "stdout",
     "output_type": "stream",
     "text": [
      "Launching server at http://localhost:52666\n"
     ]
    },
    {
     "data": {
      "text/plain": [
       "<panel.io.server.Server at 0x21cc7221e80>"
      ]
     },
     "execution_count": 18,
     "metadata": {},
     "output_type": "execute_result"
    }
   ],
   "source": [
    "css = \"\"\"\n",
    ".input-widget {\n",
    "    background-color: #f0f8ff;\n",
    "    border: 1px solid #007bff;\n",
    "}\n",
    ".filter-button {\n",
    "    background-color: #007bff;\n",
    "    color: white;\n",
    "}\n",
    ".create-button {\n",
    "    background-color: #28a745;\n",
    "    color: white;\n",
    "}\n",
    ".update-button {\n",
    "    background-color: #ffc107;\n",
    "    color: white;\n",
    "}\n",
    ".delete-button {\n",
    "    background-color: #dc3545;\n",
    "    color: white;\n",
    "}\n",
    ".title {\n",
    "    color: #007bff;\n",
    "    font-size: 24px;\n",
    "    font-weight: bold;\n",
    "}\n",
    "\n",
    "\"\"\"\n",
    "\n",
    "pn.config.raw_css.append(css)\n",
    "\n",
    "layout.show()\n"
   ]
  },
  {
   "cell_type": "markdown",
   "metadata": {},
   "source": [
    "**passo 18**\n",
    "- definição de um estilo básico\n"
   ]
  }
 ],
 "metadata": {
  "kernelspec": {
   "display_name": "venv",
   "language": "python",
   "name": "python3"
  },
  "language_info": {
   "codemirror_mode": {
    "name": "ipython",
    "version": 3
   },
   "file_extension": ".py",
   "mimetype": "text/x-python",
   "name": "python",
   "nbconvert_exporter": "python",
   "pygments_lexer": "ipython3",
   "version": "3.12.6"
  }
 },
 "nbformat": 4,
 "nbformat_minor": 2
}
