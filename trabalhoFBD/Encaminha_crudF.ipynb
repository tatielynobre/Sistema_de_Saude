{
 "cells": [
  {
   "cell_type": "code",
   "execution_count": 1,
   "metadata": {},
   "outputs": [],
   "source": [
    "import pandas as pd\n",
    "import panel as pn\n",
    "from sqlalchemy import create_engine, text\n",
    "from sqlalchemy.exc import SQLAlchemyError\n",
    "import psycopg2\n",
    "\n",
    "db_config = {\n",
    "    'user': 'postgres',\n",
    "    'password': '5715',\n",
    "    'host': 'localhost',\n",
    "    'port': '5432',\n",
    "    'database': 'Sistema_de_Gereciamento_de_SaúdeFINAL'\n",
    "}\n",
    "\n",
    "engine = create_engine(f\"postgresql+psycopg2://{db_config['user']}:{db_config['password']}@{db_config['host']}:{db_config['port']}/{db_config['database']}\")\n",
    "con = engine.connect()\n"
   ]
  },
  {
   "cell_type": "markdown",
   "metadata": {},
   "source": [
    "**Passo 1**\n",
    "Nessa etapa foi importada as bibliotecas necessárias, dps foi armazenado a config do banco e posteriormente foi criado umn objeto de conexão com o banco e dps é esyabelecido a conexão"
   ]
  },
  {
   "cell_type": "code",
   "execution_count": 2,
   "metadata": {},
   "outputs": [],
   "source": [
    "def read_encaminhamentos(id=None, CRM=None, cpf_paciente=None):\n",
    "    try:\n",
    "        if id is not None:\n",
    "            query = text(\"SELECT * FROM sistema_de_saude.encaminha WHERE id = :id\")\n",
    "            df = pd.read_sql(query, con, params={\"id\": id})\n",
    "        elif CRM is not None:\n",
    "            query = text(\"SELECT * FROM sistema_de_saude.encaminha WHERE CRM = :CRM\")\n",
    "            df = pd.read_sql(query, con, params={\"CRM\": CRM})\n",
    "        elif cpf_paciente is not None:\n",
    "            query = text(\"SELECT * FROM sistema_de_saude.encaminha WHERE cpf_paciente = :cpf_paciente\")\n",
    "            df = pd.read_sql(query, con, params={\"cpf_paciente\": cpf_paciente})\n",
    "        else:\n",
    "            query = \"SELECT * FROM sistema_de_saude.encaminha\"\n",
    "            df = pd.read_sql(query, con)\n",
    "        \n",
    "        return df\n",
    "    except SQLAlchemyError as e:\n",
    "        return str(e)"
   ]
  },
  {
   "cell_type": "markdown",
   "metadata": {},
   "source": [
    "**passo 2**\n",
    "É criado uma função que vai ler os dados da tabela e vai permitir filtrar por id, CRM do médico ou pelo cpf do paciente\n",
    "- Inicia com um bloco de tentatuva que se ocorrer um erroe ele será capturado pelo except\n",
    "- verifice se o id não é none, se sim ele consulta os dados pelo id\n",
    "- query = text.... cria uma consulta sql que seleciona os registros da tabela a partir do id\n",
    "- df = pd.read_sql.... Usa a função de leitura para executar e retornar os resultados em um dataFrame, usa o \"params\" pra mapear o valor id para o placeholder :id na consulta sql\n",
    "- se o if estiver errado ele faz o mesmo para as outras condições\n",
    "- no final ele retorna o valor do resultado, A função retorna o DataFrame df.\n",
    "- except SQLAlchemyError as e:\n",
    "    return str(e) Se um erro ocorrer ele é capturado e a função retorna uma string representando o erro, que pode ser útil para depuração.\n"
   ]
  },
  {
   "cell_type": "code",
   "execution_count": 3,
   "metadata": {},
   "outputs": [],
   "source": [
    "def create_encaminhamento(CRM, data_, unidade_destino, local_destino, cpf_paciente):\n",
    "    try:\n",
    "        query = text(\"INSERT INTO sistema_de_saude.encaminha (CRM, data_, unidade_destino, local_destino, cpf_paciente) VALUES (:CRM, :data_, :unidade_destino, :local_destino, :cpf_paciente)\")\n",
    "        con.execute(query, {\"CRM\": CRM, \"data_\": data_, \"unidade_destino\": unidade_destino, \"local_destino\": local_destino, \"cpf_paciente\": cpf_paciente})\n",
    "        con.commit()   \n",
    "        return \"Encaminhamento adicionado com sucesso!\"\n",
    "    except SQLAlchemyError as e:\n",
    "        return str(e)"
   ]
  },
  {
   "cell_type": "markdown",
   "metadata": {},
   "source": [
    "**passo 3** \n",
    "- cria uma função que inseri novos registro na tabelaCRM: O CRM do médico responsável pelo encaminhamento.\n",
    "data_: A data do encaminhamento.\n",
    "unidade_destino: O ID da unidade de saúde de destino.\n",
    "local_destino: O nome da instituição ou local de destino.\n",
    "cpf_paciente: O CPF do paciente a ser encaminhado.\n",
    "- try:  inicia o bloco de tentativa\n",
    "- query = text.... A função text() do SQLAlchemy é usada para preparar a consulta. A consulta INSERT INTO insere os valores fornecidos nos campos\n",
    "- con.execute.... executa a consulta SQL\n",
    "- con.commit() inserção dos dados no banco de dados é finalizada e confirmada. Até o commit, a inserção está pendente e pode ser revertida.\n",
    "- return \"Encaminhamento adicionado com sucesso!\", se tudo estiver correto essa mensagem é retornada\n",
    "- except SQLAlchemyError as e:\n",
    "    return str(e) se ocorrer um erro, erá capturado pelo bloco except. O erro capturado é convertido em uma string (str(e)) e retornado pela função, o que permite que o erro seja exibido ou registrado para depuração.\n",
    "\n",
    "\n",
    "\n"
   ]
  },
  {
   "cell_type": "code",
   "execution_count": 4,
   "metadata": {},
   "outputs": [],
   "source": [
    "def update_encaminhamento(id, CRM, data_, unidade_destino, local_destino, cpf_paciente):\n",
    "    try:\n",
    "        query = text(\"UPDATE sistema_de_saude.encaminha SET CRM = :CRM, data_ = :data_, unidade_destino = :unidade_destino, local_destino = :local_destino, cpf_paciente = :cpf_paciente WHERE id = :id\")\n",
    "        con.execute(query, {\"id\": id, \"CRM\": CRM, \"data_\": data_, \"unidade_destino\": unidade_destino, \"local_destino\": local_destino, \"cpf_paciente\": cpf_paciente})\n",
    "        con.commit()   \n",
    "        return \"Encaminhamento atualizado com sucesso!\"\n",
    "    except SQLAlchemyError as e:\n",
    "        return str(e)"
   ]
  },
  {
   "cell_type": "markdown",
   "metadata": {},
   "source": [
    "**passo 4**\n",
    "- atualiza os registros existentes na tabela\n",
    "- inicia o try: \n",
    "- query = text... cria uma consulta SQL\n",
    "- con. execute execulta a consulta\n",
    "- con.commit confirma a transação\n",
    "- return \"Encaminhamento atualizado com sucesso!\" retorno de sucesso\n",
    "- except SQLAlchemyError as e:\n",
    "    return str(e) se occorrer erro, captura erros relacionados ao banco de dados. Se um erro for capturado, ele é convertido em uma string com str(e) e retornado. Isso permite que a função forneça feedback sobre o erro ocorrido, facilitando a depuração.\n",
    "\n"
   ]
  },
  {
   "cell_type": "code",
   "execution_count": 5,
   "metadata": {},
   "outputs": [],
   "source": [
    "def delete_encaminhamento(id):\n",
    "    try:\n",
    "        query = text(\"DELETE FROM sistema_de_saude.encaminha WHERE id = :id\")\n",
    "        con.execute(query, {\"id\": id})\n",
    "        con.commit()   \n",
    "        return \"Encaminhamento excluído com sucesso!\"\n",
    "    except SQLAlchemyError as e:\n",
    "        return str(e)\n"
   ]
  },
  {
   "cell_type": "markdown",
   "metadata": {},
   "source": [
    "**passo 5**\n",
    "- Responsavel por excluir um encaminhamento especifico da tabela. recebe o parametro id\n",
    "- query = text.... consulta que usa o comando delete para remover um registro\n",
    "- con.execute(query, {\"id\": id}) executa a consulta e substitui o :id pelo valor passado para  a função\n",
    "- con.commit() confirma a exclusão do encaminhamento definitiva no banco de dados\n",
    "- return \"Encaminhamento excluído com sucesso!\" se exclusão for bem sucedida\n",
    "- except SQLAlchemyError as e:\n",
    "    return str(e)\n",
    "\n",
    "\n",
    "\n",
    "\n"
   ]
  },
  {
   "cell_type": "code",
   "execution_count": null,
   "metadata": {},
   "outputs": [],
   "source": [
    "pn.extension()\n",
    "\n",
    "def update_table(id=None, CRM=None, cpf_paciente=None):\n",
    "    df = read_encaminhamentos(id, CRM, cpf_paciente)\n",
    "    table.value = df"
   ]
  },
  {
   "cell_type": "markdown",
   "metadata": {},
   "source": [
    "**passo 6**\n",
    "- pn.extension() ativa o panel\n",
    "- def update_table responsavel por atualizar a tabela, tendo como base os filtros opcionais.\n",
    "- df = read_encaminhamentos(id, CRM, cpf_paciente) chama a função  que le os dados da tabela no banco, e armazena o resultado em df, que será o datafram contendo os dados do escaminhamentos\n",
    "- table.value = df Atualiza o valor do componente table com os dados da variavel df\n",
    "\n",
    "\n",
    "\n"
   ]
  },
  {
   "cell_type": "code",
   "execution_count": 7,
   "metadata": {},
   "outputs": [],
   "source": [
    "def on_filter_button_click(event):\n",
    "    id_filter = id_filter_input.value if id_filter_input.value else None\n",
    "    CRM_filter = CRM_filter_input.value if CRM_filter_input.value else None\n",
    "    cpf_paciente_filter = cpf_paciente_filter_input.value if cpf_paciente_filter_input.value else None\n",
    "    update_table(id=id_filter, CRM=CRM_filter, cpf_paciente=cpf_paciente_filter)\n",
    "    output_pane.object = \"Tabela atualizada com base no filtro.\""
   ]
  },
  {
   "cell_type": "markdown",
   "metadata": {},
   "source": [
    "**passo 7**\n",
    "- quando o usuário clica no botão de filtro. O argumento event é passado automaticamente pelo Panel, representando o evento de clique.\n",
    "- Captura os valores dos campos de entrada (ID, CRM, CPF do paciente) preenchidos pelo usuário.\n",
    "- update_table.... Atualiza a tabela de encaminhamentos com base nos filtros aplicados.\n",
    "- output_pane.object = \"Tabela atualizada com base no filtro.\" Define o conteúdo de output_pane para informar ao usuário que a tabela foi atualizada com base nos filtros\n",
    "\n"
   ]
  },
  {
   "cell_type": "code",
   "execution_count": 8,
   "metadata": {},
   "outputs": [],
   "source": [
    "id_filter_input = pn.widgets.IntInput(name='Filtrar por ID', width=150, css_classes=['input-widget'])\n",
    "CRM_filter_input = pn.widgets.IntInput(name='Filtrar por CRM', width=150, css_classes=['input-widget'])\n",
    "cpf_paciente_filter_input = pn.widgets.TextInput(name='Filtrar por CPF do Paciente', placeholder='CPF do Paciente', width=300, css_classes=['input-widget'])\n",
    "filter_button = pn.widgets.Button(name='Aplicar Filtro', button_type='primary', css_classes=['filter-button'])\n",
    "\n",
    "filter_button.on_click(on_filter_button_click)\n",
    "\n",
    "CRM_input = pn.widgets.IntInput(name='CRM', width=150, css_classes=['input-widget'])\n",
    "data_input = pn.widgets.TextInput(name='Data', placeholder='Data do Encaminhamento', width=150, css_classes=['input-widget'])\n",
    "unidade_destino_input = pn.widgets.IntInput(name='ID da Unidade de Destino', width=150, css_classes=['input-widget'])\n",
    "local_destino_input = pn.widgets.TextInput(name='Local de Destino', placeholder='Nome do Local de Destino', width=300, css_classes=['input-widget'])\n",
    "cpf_paciente_input = pn.widgets.TextInput(name='CPF do Paciente', placeholder='CPF do Paciente', width=300, css_classes=['input-widget'])\n",
    "create_button = pn.widgets.Button(name='Adicionar Encaminhamento', button_type='primary', css_classes=['create-button'])\n"
   ]
  },
  {
   "cell_type": "markdown",
   "metadata": {},
   "source": [
    "**passo 8**\n",
    "-  Cria campos de entrada do tipo numérico. Aqui temos dois campos para filtrar por ID e CRM.\n",
    "- filter_button.on_click(on_filter_button_click) Conecta o botão de filtro à função on_filter_button_click.\n",
    "- Depois é definido os campos de entrada e botões que permite ao usuário filtrar os encaminhamentos existentes ou adicionar um novo encaminhamento\n",
    "\n"
   ]
  },
  {
   "cell_type": "code",
   "execution_count": 9,
   "metadata": {},
   "outputs": [],
   "source": [
    "def on_create_button_click(event):\n",
    "    message = create_encaminhamento(CRM_input.value, data_input.value, unidade_destino_input.value, local_destino_input.value, cpf_paciente_input.value)\n",
    "    update_table()\n",
    "    output_pane.object = message\n",
    "\n",
    "    create_button.on_click(on_create_button_click)\n"
   ]
  },
  {
   "cell_type": "markdown",
   "metadata": {},
   "source": [
    "**passo 9**\n",
    "- onm_create_button_click é chamada automaticamente toda vez que o botao de encaminhamento for clicado\n",
    "- message = .... chama a função create_encaminhamento para adicionar um novo encaminhamento ao banco de dados\n",
    "- update_table() pós a criação do encaminhamento, a tabela de encaminhamentos exibida na interface é atualizada para refletir a nova inserção.\n",
    "- output_pane.object = message Atualiza o painel de saída (output_pane) com a mensagem retornada pela função create_encaminhamento.\n",
    "- create_button.on_click(on_create_button_click)  Aqui associamos a função on_create_button_click ao botão de criação de encaminhamento (create_button). Isso garante que, quando o botão for clicado, a função será executada, permitindo a criação do novo encaminhamento.\n",
    "\n",
    "\n"
   ]
  },
  {
   "cell_type": "code",
   "execution_count": 10,
   "metadata": {},
   "outputs": [],
   "source": [
    "CRM_input = pn.widgets.IntInput(name='CRM', width=150, css_classes=['input-widget'])\n",
    "data_input = pn.widgets.TextInput(name='Data', placeholder='Data do Encaminhamento', width=150, css_classes=['input-widget'])\n",
    "unidade_destino_input = pn.widgets.IntInput(name='ID da Unidade de Destino', width=150, css_classes=['input-widget'])\n",
    "local_destino_input = pn.widgets.TextInput(name='Local de Destino', placeholder='Nome do Local de Destino', width=300, css_classes=['input-widget'])\n",
    "cpf_paciente_input = pn.widgets.TextInput(name='CPF do Paciente', placeholder='CPF do Paciente', width=300, css_classes=['input-widget'])\n",
    "create_button = pn.widgets.Button(name='Adicionar Encaminhamento', button_type='primary', css_classes=['create-button'])"
   ]
  },
  {
   "cell_type": "markdown",
   "metadata": {},
   "source": [
    "**passo 10**\n",
    "- define os widgets da interface para inserir os dados\n",
    "- CRM_input: Campo para inserir o CRM do médico (número inteiro).\n",
    "- data_input: Campo para inserir a data do encaminhamento (texto).\n",
    "- unidade_destino_input: Campo para inserir o ID da unidade de destino (número inteiro).\n",
    "- local_destino_input: Campo para inserir o nome do local de destino (texto).\n",
    "- cpf_paciente_input: Campo para inserir o CPF do paciente (texto).\n",
    "- create_button: Botão para adicionar um novo encaminhamento."
   ]
  },
  {
   "cell_type": "code",
   "execution_count": 11,
   "metadata": {},
   "outputs": [
    {
     "data": {
      "text/plain": [
       "Watcher(inst=Button(button_type='primary', css_classes=['create-button'], name='Adicionar Encaminhamento'...), cls=<class 'panel.widgets.button.Button'>, fn=<function on_create_button_click at 0x0000021CC71B14E0>, mode='args', onlychanged=False, parameter_names=('clicks',), what='value', queued=False, precedence=0)"
      ]
     },
     "execution_count": 11,
     "metadata": {},
     "output_type": "execute_result"
    }
   ],
   "source": [
    "def on_create_button_click(event):\n",
    "    message = create_encaminhamento(CRM_input.value, data_input.value, unidade_destino_input.value, local_destino_input.value, cpf_paciente_input.value)\n",
    "    update_table()\n",
    "    output_pane.object = message\n",
    "\n",
    "create_button.on_click(on_create_button_click)\n"
   ]
  },
  {
   "cell_type": "markdown",
   "metadata": {},
   "source": [
    "**passo 11**\n",
    "- on_create_button_click(event): Função que define a ação do botão ao ser clicado. Ela aceita o evento de clique como argumento.\n",
    "- message = create_encaminhamento(...): Chama a função create_encaminhamento, passando os valores inseridos nos campos (CRM_input.value, data_input.value, etc.). O retorno da função (sucesso ou erro) é armazenado na variável message.\n",
    "- update_table(): Após a criação do encaminhamento, a tabela de encaminhamentos é atualizada para refletir os novos dados.\n",
    "- output_pane.object = message: Exibe a mensagem de retorno (sucesso ou erro) na interface para o usuário.\n",
    "- create_button.on_click(on_create_button_click): Associa a função on_create_button_click ao botão de criação (create_button), de forma que ela seja executada quando o botão for clicado."
   ]
  },
  {
   "cell_type": "code",
   "execution_count": 12,
   "metadata": {},
   "outputs": [],
   "source": [
    "id_input = pn.widgets.IntInput(name='ID do Encaminhamento', width=150, css_classes=['input-widget'])\n",
    "update_CRM_input = pn.widgets.IntInput(name='Novo CRM', width=150, css_classes=['input-widget'])\n",
    "update_data_input = pn.widgets.TextInput(name='Nova Data', placeholder='Nova Data', width=150, css_classes=['input-widget'])\n",
    "update_unidade_destino_input = pn.widgets.IntInput(name='Nova Unidade de Destino', width=150, css_classes=['input-widget'])\n",
    "update_local_destino_input = pn.widgets.TextInput(name='Novo Local de Destino', placeholder='Novo Local de Destino', width=300, css_classes=['input-widget'])\n",
    "update_cpf_paciente_input = pn.widgets.TextInput(name='Novo CPF do Paciente', placeholder='Novo CPF do Paciente', width=300, css_classes=['input-widget'])\n",
    "update_button = pn.widgets.Button(name='Atualizar Encaminhamento', button_type='warning', css_classes=['update-button'])"
   ]
  },
  {
   "cell_type": "markdown",
   "metadata": {},
   "source": [
    "**passo 12**\n",
    "- id_input: Um campo de entrada para o ID do encaminhamento que deseja ser atualizado. Usa IntInput para permitir apenas números inteiros.\n",
    "\n",
    "- update_CRM_input: Um campo de entrada para o novo CRM do profissional de saúde. Também utiliza IntInput para garantir a entrada numérica.\n",
    "- update_data_input: Um campo de texto para a nova data do encaminhamento. Utiliza TextInput, permitindo a entrada de texto (no formato de data).\n",
    "- update_unidade_destino_input: Campo numérico para a nova unidade de destino, representada por um ID numérico.\n",
    "- update_local_destino_input: Um campo de texto para o novo local de destino.\n",
    "- update_cpf_paciente_input: Um campo de texto para inserir o novo CPF do paciente relacionado ao encaminhamento.\n",
    "- update_button: Um botão que, ao ser clicado, dispara o processo de atualização do encaminhamento, utilizando a cor de alerta (warning) para indicar uma ação de modificação.\n",
    "\n"
   ]
  },
  {
   "cell_type": "code",
   "execution_count": 13,
   "metadata": {},
   "outputs": [
    {
     "data": {
      "text/plain": [
       "Watcher(inst=Button(button_type='warning', css_classes=['update-button'], name='Atualizar Encaminhamento'...), cls=<class 'panel.widgets.button.Button'>, fn=<function on_update_button_click at 0x0000021CC71B32E0>, mode='args', onlychanged=False, parameter_names=('clicks',), what='value', queued=False, precedence=0)"
      ]
     },
     "execution_count": 13,
     "metadata": {},
     "output_type": "execute_result"
    }
   ],
   "source": [
    "def on_update_button_click(event):\n",
    "    message = update_encaminhamento(id_input.value, update_CRM_input.value, update_data_input.value, update_unidade_destino_input.value, update_local_destino_input.value, update_cpf_paciente_input.value)\n",
    "    update_table()\n",
    "    output_pane.object = message\n",
    "\n",
    "update_button.on_click(on_update_button_click)"
   ]
  },
  {
   "cell_type": "markdown",
   "metadata": {},
   "source": [
    "**passo 13**\n",
    "- Este código define uma ação para o botão de atualização de encaminhamentos. Quando o botão é clicado, a função on_update_button_click é chamada, capturando os valores dos campos de entrada (ID, CRM, data, unidade de destino, local de destino e CPF do paciente). Esses valores são passados para a função update_encaminhamento, que atualiza o registro no banco de dados. Após a atualização, a tabela de encaminhamentos é atualizada automaticamente, e uma mensagem de sucesso ou erro é exibida no painel output_pane. O botão de atualização é vinculado a essa função para executar a ação."
   ]
  },
  {
   "cell_type": "code",
   "execution_count": 14,
   "metadata": {},
   "outputs": [],
   "source": [
    "delete_id_input = pn.widgets.IntInput(name='ID do Encaminhamento para Excluir', width=150, css_classes=['input-widget'])\n",
    "delete_button = pn.widgets.Button(name='Excluir Encaminhamento', button_type='danger', css_classes=['delete-button'])\n"
   ]
  },
  {
   "cell_type": "markdown",
   "metadata": {},
   "source": [
    "**passo 14**\n",
    "- delete_id_input: Um campo de entrada do tipo IntInput para o usuário fornecer o ID do encaminhamento que deseja excluir.\n",
    "- delete_button: Um botão de ação rotulado como \"Excluir Encaminhamento\""
   ]
  },
  {
   "cell_type": "code",
   "execution_count": 15,
   "metadata": {},
   "outputs": [
    {
     "data": {
      "text/plain": [
       "Watcher(inst=Button(button_type='danger', css_classes=['delete-button'], name='Excluir Encaminhamento'), cls=<class 'panel.widgets.button.Button'>, fn=<function on_delete_button_click at 0x0000021CC71B31A0>, mode='args', onlychanged=False, parameter_names=('clicks',), what='value', queued=False, precedence=0)"
      ]
     },
     "execution_count": 15,
     "metadata": {},
     "output_type": "execute_result"
    }
   ],
   "source": [
    "def on_delete_button_click(event):\n",
    "    message = delete_encaminhamento(delete_id_input.value)\n",
    "    update_table()\n",
    "    output_pane.object = message\n",
    "\n",
    "delete_button.on_click(on_delete_button_click)\n"
   ]
  },
  {
   "cell_type": "markdown",
   "metadata": {},
   "source": [
    "**passo 15**\n",
    "- O código define a ação de excluir um encaminhamento quando o botão de exclusão é clicado. A função on_delete_button_click é responsável por capturar o ID do encaminhamento a ser excluído, chamando a função delete_encaminhamento que realiza a exclusão no banco de dados. A tabela é atualizada automaticamente após a exclusão por meio da função update_table, e uma mensagem de sucesso ou erro é exibida no painel output_pane. A função on_delete_button_click é vinculada ao botão de exclusão através do comando delete_button.on_click, garantindo que a ação ocorra sempre que o botão for clicado."
   ]
  },
  {
   "cell_type": "code",
   "execution_count": 16,
   "metadata": {},
   "outputs": [],
   "source": [
    "table = pn.widgets.DataFrame(read_encaminhamentos(), name='Tabela de Encaminhamentos', width=600)\n",
    "output_pane = pn.pane.Markdown(\"Mensagens aparecerão aqui\", width=600)\n"
   ]
  },
  {
   "cell_type": "markdown",
   "metadata": {},
   "source": [
    "**passo 16**\n",
    "- A variável table cria um widget de DataFrame que exibe os encaminhamentos recuperados pela função read_encaminhamentos().\n",
    "- A variável output_pane cria um painel Markdown que serve para exibir mensagens\n",
    "- Esse painel será atualizado conforme as interações com os botões de criação, atualização ou exclusão de encaminhamentos.\n"
   ]
  },
  {
   "cell_type": "code",
   "execution_count": 17,
   "metadata": {},
   "outputs": [],
   "source": [
    "layout = pn.Column(\n",
    "    pn.pane.Markdown(\"# Encaminhamento\", sizing_mode='stretch_width', css_classes=['title']),\n",
    "    pn.Row(\n",
    "        pn.Column(id_filter_input, CRM_filter_input, cpf_paciente_filter_input, filter_button),\n",
    "        sizing_mode='stretch_width'\n",
    "    ),\n",
    "    pn.Row(\n",
    "        pn.Column(CRM_input, data_input, unidade_destino_input, local_destino_input, cpf_paciente_input, create_button),\n",
    "        sizing_mode='stretch_width'\n",
    "    ),\n",
    "    pn.Row(\n",
    "        pn.Column(id_input, update_CRM_input, update_data_input, update_unidade_destino_input, update_local_destino_input, update_cpf_paciente_input, update_button),\n",
    "        sizing_mode='stretch_width'\n",
    "    ),\n",
    "    pn.Row(\n",
    "        pn.Column(delete_id_input, delete_button),\n",
    "        sizing_mode='stretch_width'\n",
    "    ),\n",
    "    table,\n",
    "    output_pane,\n",
    "    sizing_mode='stretch_width'\n",
    ")\n"
   ]
  },
  {
   "cell_type": "markdown",
   "metadata": {},
   "source": [
    "**passo 17**\n",
    "- O código define uma interface de gerenciamento de encaminhamentos usando a biblioteca Panel. Inicialmente, são criados widgets para filtrar, adicionar, atualizar e excluir encaminhamentos, incluindo campos para ID, CRM, data, unidade de destino, local e CPF do paciente, além de botões para aplicar filtros, criar, atualizar e excluir registros. A função on_filter_button_click atualiza a tabela de encaminhamentos com base nos filtros aplicados. A função on_create_button_click adiciona um novo encaminhamento e atualiza a tabela, enquanto a função on_update_button_click permite atualizar um encaminhamento existente e, por fim, a função on_delete_button_click remove um encaminhamento com base no ID fornecido. A tabela é exibida para mostrar os encaminhamentos atuais, e mensagens de status são apresentadas em um painel. O layout da interface organiza os elementos vertical e horizontalmente, garantindo que ocupem toda a largura disponível, criando uma experiência de usuário fluida e intuitiva."
   ]
  },
  {
   "cell_type": "code",
   "execution_count": 18,
   "metadata": {},
   "outputs": [
    {
     "name": "stdout",
     "output_type": "stream",
     "text": [
      "Launching server at http://localhost:52666\n"
     ]
    },
    {
     "data": {
      "text/plain": [
       "<panel.io.server.Server at 0x21cc7221e80>"
      ]
     },
     "execution_count": 18,
     "metadata": {},
     "output_type": "execute_result"
    }
   ],
   "source": [
    "css = \"\"\"\n",
    ".input-widget {\n",
    "    background-color: #f0f8ff;\n",
    "    border: 1px solid #007bff;\n",
    "}\n",
    ".filter-button {\n",
    "    background-color: #007bff;\n",
    "    color: white;\n",
    "}\n",
    ".create-button {\n",
    "    background-color: #28a745;\n",
    "    color: white;\n",
    "}\n",
    ".update-button {\n",
    "    background-color: #ffc107;\n",
    "    color: white;\n",
    "}\n",
    ".delete-button {\n",
    "    background-color: #dc3545;\n",
    "    color: white;\n",
    "}\n",
    ".title {\n",
    "    color: #007bff;\n",
    "    font-size: 24px;\n",
    "    font-weight: bold;\n",
    "}\n",
    "\n",
    "\"\"\"\n",
    "\n",
    "pn.config.raw_css.append(css)\n",
    "\n",
    "layout.show()\n"
   ]
  },
  {
   "cell_type": "markdown",
   "metadata": {},
   "source": [
    "**passo 18**\n",
    "- definição de um estilo básico\n"
   ]
  }
 ],
 "metadata": {
  "kernelspec": {
   "display_name": "venv",
   "language": "python",
   "name": "python3"
  },
  "language_info": {
   "codemirror_mode": {
    "name": "ipython",
    "version": 3
   },
   "file_extension": ".py",
   "mimetype": "text/x-python",
   "name": "python",
   "nbconvert_exporter": "python",
   "pygments_lexer": "ipython3",
   "version": "3.12.6"
  }
 },
 "nbformat": 4,
 "nbformat_minor": 2
}
